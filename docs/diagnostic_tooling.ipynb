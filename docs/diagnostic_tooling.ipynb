{
 "cells": [
  {
   "cell_type": "markdown",
   "metadata": {},
   "source": [
    "# cadCAD diagnostic tricks\n",
    "\n",
    "On this document, I show several tricks and techniques which was used for debugging all sort of things on FIL."
   ]
  },
  {
   "cell_type": "markdown",
   "metadata": {},
   "source": [
    "## Performance profiling\n",
    "\n",
    "When doing simulations for long scenarios, algorithm complexity can quickly become a issue. An sim that takes 1s on 10 timesteps both on an linear and quadratic complexity versions of it will run on 16min when ran for 100 timesteps in the quadratic version.\n",
    "\n",
    "Dealing with complex systems means that are several parts which can be complicated for doing an complete analysis. The best way for managing performance issues is to adopt an top-down approach for investigating where improvements can be extracted."
   ]
  },
  {
   "cell_type": "markdown",
   "metadata": {},
   "source": [
    "### Simulation execution time and dimensions"
   ]
  },
  {
   "cell_type": "code",
   "execution_count": null,
   "metadata": {},
   "outputs": [],
   "source": []
  },
  {
   "cell_type": "markdown",
   "metadata": {},
   "source": [
    "### Dimensional analysis"
   ]
  },
  {
   "cell_type": "code",
   "execution_count": null,
   "metadata": {},
   "outputs": [],
   "source": []
  },
  {
   "cell_type": "markdown",
   "metadata": {},
   "source": [
    "### "
   ]
  },
  {
   "cell_type": "code",
   "execution_count": null,
   "metadata": {},
   "outputs": [],
   "source": []
  },
  {
   "cell_type": "code",
   "execution_count": null,
   "metadata": {},
   "outputs": [],
   "source": []
  },
  {
   "cell_type": "markdown",
   "metadata": {},
   "source": [
    "### Policy / SUF decorators\n",
    "\n",
    "An simple way for measuring "
   ]
  },
  {
   "cell_type": "code",
   "execution_count": 1,
   "metadata": {},
   "outputs": [],
   "source": [
    "from time import time\n",
    "from functools import wraps\n",
    "\n",
    "def print_time(f, start_threshold=0, end_threshold=None):\n",
    "    @wraps(f)\n",
    "    def wrapper(*args, **kwargs):\n",
    "        t = len(args[2])\n",
    "        if (t < start_threshold) or (t > end_threshold):\n",
    "            t1 = time()\n",
    "            f_out = f(*args, **kwargs)\n",
    "            t2 = time()\n",
    "            if (t2 - t1) > 0.005:\n",
    "                print(f\"{t}|{f.__name__}={t2 - t1:.8f}s\")\n",
    "        else:\n",
    "            f_out = f(*args, **kwargs)\n",
    "        return f_out\n",
    "    return wrapper"
   ]
  },
  {
   "cell_type": "code",
   "execution_count": null,
   "metadata": {},
   "outputs": [],
   "source": []
  },
  {
   "cell_type": "markdown",
   "metadata": {},
   "source": [
    "### PSUB function injection"
   ]
  },
  {
   "cell_type": "markdown",
   "metadata": {},
   "source": [
    "### SUF for memory usage"
   ]
  },
  {
   "cell_type": "markdown",
   "metadata": {},
   "source": [
    "### SUF for measuring simulation time"
   ]
  },
  {
   "cell_type": "markdown",
   "metadata": {},
   "source": [
    "### cadCAD tweaks"
   ]
  },
  {
   "cell_type": "code",
   "execution_count": null,
   "metadata": {},
   "outputs": [],
   "source": []
  }
 ],
 "metadata": {
  "kernelspec": {
   "display_name": "Python 3",
   "language": "python",
   "name": "python3"
  },
  "language_info": {
   "codemirror_mode": {
    "name": "ipython",
    "version": 3
   },
   "file_extension": ".py",
   "mimetype": "text/x-python",
   "name": "python",
   "nbconvert_exporter": "python",
   "pygments_lexer": "ipython3",
   "version": "3.8.2"
  }
 },
 "nbformat": 4,
 "nbformat_minor": 4
}
