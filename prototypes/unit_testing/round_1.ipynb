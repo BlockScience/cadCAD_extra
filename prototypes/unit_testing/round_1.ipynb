{
 "cells": [
  {
   "cell_type": "markdown",
   "metadata": {
    "slideshow": {
     "slide_type": "slide"
    }
   },
   "source": [
    "# Unit testing and cadCAD objects\n",
    "\n",
    "On this notebook, I'll show some ideas and thoughts about unit testing and wrapping user functions / objects into cadCAD."
   ]
  },
  {
   "cell_type": "markdown",
   "metadata": {
    "slideshow": {
     "slide_type": "slide"
    }
   },
   "source": [
    "## Unit testing"
   ]
  },
  {
   "cell_type": "markdown",
   "metadata": {
    "slideshow": {
     "slide_type": "fragment"
    }
   },
   "source": [
    "### doctest\n",
    "\n",
    "Maybe the most straightforward manner to include unit testing on cadCAD.\n",
    "\n",
    "*Pros*\n",
    "* Available on Python standard library\n",
    "* Easy to learn and implement\n",
    "* Straightforward and runs on jupyter notebooks\n",
    "* Forces us to create docstrings\n",
    "\n",
    "*Cons*\n",
    "* Can generate clutter\n",
    "* A lot of clutter if we want to do multiple tests\n",
    "* Doesn't have many options for extending it"
   ]
  },
  {
   "cell_type": "code",
   "execution_count": 3,
   "metadata": {
    "slideshow": {
     "slide_type": "subslide"
    }
   },
   "outputs": [
    {
     "data": {
      "text/plain": [
       "TestResults(failed=0, attempted=6)"
      ]
     },
     "execution_count": 3,
     "metadata": {},
     "output_type": "execute_result"
    }
   ],
   "source": [
    "import doctest\n",
    "\n",
    "def p_logistic_policy(params, substep, state_history, prev_state):\n",
    "    \"\"\"\n",
    "    Yet another logistic map.\n",
    "    \n",
    "    >>> params = {'control_parameter': 3.7}\n",
    "    >>> prev_state = {'population': 0.7}\n",
    "    >>> x = p_logistic_policy(params, None, None, prev_state)\n",
    "    >>> abs(x['replace_population'] - 0.777) < 0.001\n",
    "    True\n",
    "    \"\"\"\n",
    "    a = params['control_parameter']\n",
    "    x = prev_state['population']\n",
    "    new_pop = min(max(a * x * (1 - x), 0), 1)\n",
    "    return {'replace_population': new_pop}\n",
    "\n",
    "\n",
    "def s_population(params, substep, state_history, prev_state, policy_input):\n",
    "    \"\"\"\n",
    "    Update population\n",
    "    \n",
    "    >>> policy_input = {'replace_population': 0.7}\n",
    "    >>> s_population(None, None, None, None, policy_input)\n",
    "    ('population', 0.7)\n",
    "    \"\"\"\n",
    "    new_pop = policy_input.get('replace_population')\n",
    "    return ('population', new_pop)\n",
    "\n",
    "doctest.testmod()"
   ]
  },
  {
   "cell_type": "markdown",
   "metadata": {
    "slideshow": {
     "slide_type": "slide"
    }
   },
   "source": [
    "### Pytest\n",
    "\n",
    "The most complete testing suite for Python. It can parse doctest strings as well as having separate and modular tests.\n",
    "\n",
    "*Pros*\n",
    "* Extensible and configurable\n",
    "* Useful for complex applications\n",
    "* Can reuse doctest strings\n",
    "\n",
    "*Cons*\n",
    "* Not so very straightforward\n",
    "* Doesn't run on notebooks"
   ]
  },
  {
   "cell_type": "markdown",
   "metadata": {
    "slideshow": {
     "slide_type": "subslide"
    }
   },
   "source": [
    "### What I think\n",
    "\n",
    "* $[doctest, pytest] \\neq 0$\n",
    "* `pytest(doctest(source))` runs okay, but `doctest(pytest(source))` gives error\n",
    "* Doctest is quicker to prototype, but pytest is better for handling a lot of tests"
   ]
  },
  {
   "cell_type": "markdown",
   "metadata": {
    "slideshow": {
     "slide_type": "slide"
    }
   },
   "source": [
    "## Object-oriented cadCAD objects\n",
    "\n",
    "If we created objects for representing cadCAD data, logic and structure, we would have a lot of options for thinking how to plug simulations into user objects and classes. Also, the component code relation with the structure would be more visible."
   ]
  },
  {
   "cell_type": "code",
   "execution_count": 1,
   "metadata": {
    "slideshow": {
     "slide_type": "subslide"
    }
   },
   "outputs": [],
   "source": [
    "# Wrapping everything\n",
    "Configuration = lambda *args, **kwargs: None\n",
    "\n",
    "# Structure\n",
    "TimestepBlock = lambda *args, **kwargs: None\n",
    "PartialStateUpdateBlock = lambda *args, **kwargs: None\n",
    "\n",
    "# Logic\n",
    "Policy = lambda *args, **kwargs: None\n",
    "StateUpdateFunction = lambda *args, **kwargs: None\n",
    "\n",
    "# Concrete\n",
    "State = lambda *args, **kwargs: None\n",
    "Parameter = lambda *args, **kwargs: None\n",
    "Timestep = lambda *args, **kwargs: None\n",
    "StateHistory = lambda *args, **kwargs: None\n",
    "Signal = lambda *args, **kwargs: None # Also known as policy_input"
   ]
  },
  {
   "cell_type": "markdown",
   "metadata": {
    "slideshow": {
     "slide_type": "slide"
    }
   },
   "source": [
    "### Mapping arguments between user functions and cadCAD objects\n",
    "\n",
    "An hypothetical application would be to map cadCAD inputs into user inputs. There are a lot of ways of how to do it, and the next block shows an possible choice.\n"
   ]
  },
  {
   "cell_type": "code",
   "execution_count": 3,
   "metadata": {
    "slideshow": {
     "slide_type": "subslide"
    }
   },
   "outputs": [],
   "source": [
    "# User function\n",
    "logistic_map = lambda a, x: (a * x * (1 - x), x)"
   ]
  },
  {
   "cell_type": "code",
   "execution_count": null,
   "metadata": {
    "slideshow": {
     "slide_type": "subslide"
    }
   },
   "outputs": [],
   "source": [
    "# Simulation logic\n",
    "\n",
    "\"\"\"\n",
    "In this pattern, the policy positional arguments represents the \n",
    "generated policy_input object. The argument for signal is the key for it.\n",
    "\n",
    "As for the keywords arguments, they represent direct mappings into the\n",
    "callable arguments.\n",
    "\"\"\"\n",
    "logistic_policy = Policy(logistic_map,\n",
    "                         Signal('new_population'),\n",
    "                         Signal('old_population'),\n",
    "                         a=Parameter('control_parameter'),\n",
    "                         x=State('population'))\n",
    "\n",
    "\"\"\"\n",
    "Analogous to the above, but there is only one positional argument,\n",
    "representing the updated variable.\n",
    "\"\"\"\n",
    "logistic_update = StateUpdateFunction(lambda x: x,\n",
    "                                      State('population'),\n",
    "                                      x=Signal('new_population'))"
   ]
  },
  {
   "cell_type": "code",
   "execution_count": null,
   "metadata": {
    "slideshow": {
     "slide_type": "subslide"
    }
   },
   "outputs": [],
   "source": [
    "# Simulation structure\n",
    "\n",
    "\"\"\"\n",
    "We could build partial state update blocks in an unordered way\n",
    "\"\"\"\n",
    "partial_block = PartialStateUpdateBlock(logistic_policy,\n",
    "                                        logistic_update,\n",
    "                                        label='Logistic Map Policy')\n",
    "\n",
    "partial_block_2 = PartialStateUpdateBlock(logistic_update,\n",
    "                                          label='Nothing at all')\n",
    "\n",
    "\"\"\"\n",
    "And the timestep block in an ordered manner\n",
    "\"\"\"\n",
    "timestep_block = TimestepBlock([partial_block, partial_block_2])"
   ]
  },
  {
   "cell_type": "code",
   "execution_count": null,
   "metadata": {
    "slideshow": {
     "slide_type": "subslide"
    }
   },
   "outputs": [],
   "source": [
    "# Simulation parameters\n",
    "sim_config = {'N': 1, 'T': range(10), 'M': {'control_parameter': 3.7}}\n",
    "initial_state = {'population': 0.7}\n",
    "\n",
    "# Wrapping everything\n",
    "config = Configuration(sim_config,\n",
    "                       initial_state,\n",
    "                       timestep_block)\n",
    "\n",
    "\n",
    "# Run in an simple ExecutionContext\n",
    "\"\"\"\n",
    "It would be even friendlier if we created an .run() method for running in an very simple context.\n",
    "Would be very useful for beginners and google colab people.\n",
    "\"\"\"\n",
    "try:\n",
    "    data = config.run()\n",
    "except:\n",
    "    pass"
   ]
  },
  {
   "cell_type": "markdown",
   "metadata": {
    "slideshow": {
     "slide_type": "slide"
    }
   },
   "source": [
    "### Possible applications of using objects for cadCAD objects\n",
    "\n",
    "* Easier to check relations between the concrete objects, logic and structure\n",
    "    * Possible optimizations?\n",
    "    * Easier for generating visualizations of those relations\n",
    "* More natural for fitting user functions into cadCAD\n",
    "    * And probably more transparent\n",
    "* I'm almost sure that this is an pre-requisite for doing class-wrapping functionalities"
   ]
  },
  {
   "cell_type": "code",
   "execution_count": null,
   "metadata": {},
   "outputs": [],
   "source": []
  }
 ],
 "metadata": {
  "kernelspec": {
   "display_name": "Python 3",
   "language": "python",
   "name": "python3"
  },
  "language_info": {
   "codemirror_mode": {
    "name": "ipython",
    "version": 3
   },
   "file_extension": ".py",
   "mimetype": "text/x-python",
   "name": "python",
   "nbconvert_exporter": "python",
   "pygments_lexer": "ipython3",
   "version": "3.8.2"
  }
 },
 "nbformat": 4,
 "nbformat_minor": 4
}
