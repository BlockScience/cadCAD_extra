{
 "cells": [
  {
   "cell_type": "code",
   "execution_count": 23,
   "metadata": {},
   "outputs": [],
   "source": [
    "\n",
    "from typing import NamedTuple, Dict, List, Tuple\n",
    "import doctest\n",
    "\n",
    "class ConcreteMap(NamedTuple):\n",
    "    name: str\n",
    "    target: str\n",
    "    options: list\n",
    "    order: int\n",
    "\n",
    "Parameter = lambda name: ConcreteMap(name,\n",
    "                                     'params',\n",
    "                                     ['policy', 'state_update'],\n",
    "                                     0)\n",
    "\n",
    "Timestep = lambda name: ConcreteMap(name,\n",
    "                                    'timestep',\n",
    "                                    ['policy', 'state_update'],\n",
    "                                    1)\n",
    "\n",
    "StateHistory = lambda name: ConcreteMap(name,\n",
    "                                        'state_history',\n",
    "                                        ['policy', 'state_update'],\n",
    "                                        2)\n",
    "\n",
    "State = lambda name: ConcreteMap(name,\n",
    "                                 'prev_state',\n",
    "                                 ['policy', 'state_update'],\n",
    "                                 3)\n",
    "\n",
    "Signal = lambda name: ConcreteMap(name,\n",
    "                                  'policy_input',\n",
    "                                  ['state_update'],\n",
    "                                  4)\n",
    "\n",
    "\n",
    "def check_args(*args: list, option : str=None, target: str=None):\n",
    "    \"\"\"\n",
    "    Checks if args are ConcreteMap.\n",
    "    \n",
    "    >>> check_args(Signal('a'), State('a'))\n",
    "    True\n",
    "    >>> check_args(Signal('a'), 2.0)\n",
    "    False\n",
    "    >>> check_args(Signal('a'), State('a'), option='policy')\n",
    "    False\n",
    "    >>> check_args(Signal('a'), State('a'), target='policy_input')\n",
    "    False\n",
    "    >>> check_args(Signal('a'), target='policy_input')\n",
    "    True\n",
    "    >>> check_args(Signal('a'), option='state_update')\n",
    "    True\n",
    "    >>> check_args(Signal('a'), target='policy_input', option='state_update')\n",
    "    True\n",
    "    \"\"\"\n",
    "    arg_types = [type(arg) is ConcreteMap\n",
    "                 and (option is None or option in arg.options)\n",
    "                 and (target is None or target == arg.target)\n",
    "                 for arg in args]\n",
    "    arg_options = []\n",
    "    return not (False in arg_types)\n",
    "\n",
    "def make_policy(function: callable, \n",
    "                *signals: Tuple[ConcreteMap],\n",
    "                pos_args: Tuple[ConcreteMap]=(), \n",
    "                kw_args: Dict[str, ConcreteMap]={},\n",
    "                **kwargs: Dict[str, ConcreteMap]):\n",
    "\n",
    "    # Check if arguments are valid.\n",
    "    args_are_valid = check_args(*pos_args, *kwargs.values(),\n",
    "                          *kwargs.values(), option='policy')\n",
    "    args_are_valid &= check_args(*signals, target='policy_input')\n",
    "    if not args_are_valid:\n",
    "        raise TypeError('Arguments are not valid.') \n",
    "        \n",
    "    # Prepare mappings\n",
    "    \n",
    "    \n",
    "\n",
    "    def wrapped_function(*args):\n",
    "        arg_map = [args[arg.order][arg.name] for arg in pos_args]\n",
    "        kwarg_map = [args[arg.order][arg.name] for arg in kw_args]\n",
    "        signal_map = None\n",
    "        output = function(*arg_map, **kwarg_map)\n",
    "        return {}\n",
    "    return wrapped_function"
   ]
  },
  {
   "cell_type": "code",
   "execution_count": 19,
   "metadata": {},
   "outputs": [
    {
     "data": {
      "text/plain": [
       "TestResults(failed=0, attempted=7)"
      ]
     },
     "execution_count": 19,
     "metadata": {},
     "output_type": "execute_result"
    }
   ],
   "source": [
    "doctest.testmod()"
   ]
  },
  {
   "cell_type": "code",
   "execution_count": 8,
   "metadata": {},
   "outputs": [
    {
     "data": {
      "text/plain": [
       "<function __main__.make_policy.<locals>.wrapped_function(*args)>"
      ]
     },
     "execution_count": 8,
     "metadata": {},
     "output_type": "execute_result"
    }
   ],
   "source": [
    "f = lambda a, x: x\n",
    "\n",
    "make_policy(f,\n",
    "            Signal('variable'),\n",
    "            pos_args=(Parameter('a'), State('x'))\n",
    "            )"
   ]
  },
  {
   "cell_type": "code",
   "execution_count": 15,
   "metadata": {},
   "outputs": [
    {
     "data": {
      "text/plain": [
       "True"
      ]
     },
     "execution_count": 15,
     "metadata": {},
     "output_type": "execute_result"
    }
   ],
   "source": [
    "check_args(Signal('a'), target='policy_input')"
   ]
  },
  {
   "cell_type": "code",
   "execution_count": null,
   "metadata": {},
   "outputs": [],
   "source": []
  }
 ],
 "metadata": {
  "kernelspec": {
   "display_name": "Python 3",
   "language": "python",
   "name": "python3"
  },
  "language_info": {
   "codemirror_mode": {
    "name": "ipython",
    "version": 3
   },
   "file_extension": ".py",
   "mimetype": "text/x-python",
   "name": "python",
   "nbconvert_exporter": "python",
   "pygments_lexer": "ipython3",
   "version": "3.7.5"
  }
 },
 "nbformat": 4,
 "nbformat_minor": 4
}
