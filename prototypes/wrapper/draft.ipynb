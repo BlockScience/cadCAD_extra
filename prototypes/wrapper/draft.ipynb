{
 "cells": [
  {
   "cell_type": "code",
   "execution_count": 23,
   "metadata": {},
   "outputs": [],
   "source": [
    "\n",
    "from typing import NamedTuple, Dict, List, Tuple\n",
    "import doctest\n",
    "\n",
    "class ConcreteMap(NamedTuple):\n",
    "    name: str\n",
    "    target: str\n",
    "    options: list\n",
    "    order: int\n",
    "\n",
    "Parameter = lambda name: ConcreteMap(name,\n",
    "                                     'params',\n",
    "                                     ['policy', 'state_update'],\n",
    "                                     0)\n",
    "\n",
    "Timestep = lambda name: ConcreteMap(name,\n",
    "                                    'timestep',\n",
    "                                    ['policy', 'state_update'],\n",
    "                                    1)\n",
    "\n",
    "StateHistory = lambda name: ConcreteMap(name,\n",
    "                                        'state_history',\n",
    "                                        ['policy', 'state_update'],\n",
    "                                        2)\n",
    "\n",
    "State = lambda name: ConcreteMap(name,\n",
    "                                 'prev_state',\n",
    "                                 ['policy', 'state_update'],\n",
    "                                 3)\n",
    "\n",
    "Signal = lambda name: ConcreteMap(name,\n",
    "                                  'policy_input',\n",
    "                                  ['state_update'],\n",
    "                                  4)\n",
    "\n",
    "\n",
    "def check_args(*args: list, option : str=None, target: str=None):\n",
    "    \"\"\"\n",
    "    Checks if args are ConcreteMap.\n",
    "    \n",
    "    >>> check_args(Signal('a'), State('a'))\n",
    "    True\n",
    "    >>> check_args(Signal('a'), 2.0)\n",
    "    False\n",
    "    >>> check_args(Signal('a'), State('a'), option='policy')\n",
    "    False\n",
    "    >>> check_args(Signal('a'), State('a'), target='policy_input')\n",
    "    False\n",
    "    >>> check_args(Signal('a'), target='policy_input')\n",
    "    True\n",
    "    >>> check_args(Signal('a'), option='state_update')\n",
    "    True\n",
    "    >>> check_args(Signal('a'), target='policy_input', option='state_update')\n",
    "    True\n",
    "    \"\"\"\n",
    "    arg_types = [type(arg) is ConcreteMap\n",
    "                 and (option is None or option in arg.options)\n",
    "                 and (target is None or target == arg.target)\n",
    "                 for arg in args]\n",
    "    arg_options = []\n",
    "    return not (False in arg_types)\n",
    "\n",
    "\n",
    "def make_policy(function: callable, \n",
    "                *signals: Tuple[ConcreteMap],\n",
    "                pos_args: Tuple[ConcreteMap]=(), \n",
    "                kw_args: Dict[str, ConcreteMap]={},\n",
    "                **kwargs: Dict[str, ConcreteMap]):\n",
    "\n",
    "    # Check if arguments are valid.\n",
    "    args_are_valid = check_args(*pos_args, *kwargs.values(),\n",
    "                          *kwargs.values(), option='policy')\n",
    "    args_are_valid &= check_args(*signals, target='policy_input')\n",
    "    if not args_are_valid:\n",
    "        raise TypeError('Arguments are not valid.') \n",
    "        \n",
    "    # Prepare mappings\n",
    "    \n",
    "    kw_map = {}\n",
    "    kw_map.update(kw_args)\n",
    "    kw_map.update(kwargs)\n",
    "\n",
    "    def wrapped_function(*args):\n",
    "        arg_map = [args[arg.order][arg.name] for arg in pos_args]\n",
    "        kwarg_map = {key: args[arg.order][arg.name] for key, arg in kw_args.items()}\n",
    "        signal_map = None\n",
    "        output = function(*arg_map, **kwarg_map)\n",
    "        return {}\n",
    "    return wrapped_function"
   ]
  },
  {
   "cell_type": "code",
   "execution_count": 1,
   "metadata": {},
   "outputs": [],
   "source": []
  },
  {
   "cell_type": "code",
   "execution_count": 24,
   "metadata": {},
   "outputs": [
    {
     "name": "stdout",
     "output_type": "stream",
     "text": [
      "[(1, 3), (1, 4), (2, 3), (2, 4)]\n"
     ]
    }
   ],
   "source": [
    "from itertools import product\n",
    "A = [1, 2]\n",
    "B = [3, 4]\n",
    "factors = [A, B]\n",
    "C = product(*factors)\n",
    "print(list(C))"
   ]
  },
  {
   "cell_type": "code",
   "execution_count": 25,
   "metadata": {},
   "outputs": [
    {
     "name": "stdout",
     "output_type": "stream",
     "text": [
      "[]\n"
     ]
    }
   ],
   "source": [
    "print(list(*C))"
   ]
  },
  {
   "cell_type": "code",
   "execution_count": 21,
   "metadata": {},
   "outputs": [
    {
     "data": {
      "text/plain": [
       "<itertools.product at 0x7f8b5c9a3780>"
      ]
     },
     "execution_count": 21,
     "metadata": {},
     "output_type": "execute_result"
    }
   ],
   "source": [
    "C"
   ]
  },
  {
   "cell_type": "code",
   "execution_count": 19,
   "metadata": {},
   "outputs": [
    {
     "data": {
      "text/plain": [
       "TestResults(failed=0, attempted=7)"
      ]
     },
     "execution_count": 19,
     "metadata": {},
     "output_type": "execute_result"
    }
   ],
   "source": [
    "doctest.testmod()"
   ]
  },
  {
   "cell_type": "code",
   "execution_count": 8,
   "metadata": {},
   "outputs": [
    {
     "data": {
      "text/plain": [
       "<function __main__.make_policy.<locals>.wrapped_function(*args)>"
      ]
     },
     "execution_count": 8,
     "metadata": {},
     "output_type": "execute_result"
    }
   ],
   "source": [
    "f = lambda a, x: x\n",
    "\n",
    "make_policy(f,\n",
    "            Signal('variable'),\n",
    "            pos_args=(Parameter('a'), State('x'))\n",
    "            )"
   ]
  },
  {
   "cell_type": "code",
   "execution_count": 15,
   "metadata": {},
   "outputs": [
    {
     "data": {
      "text/plain": [
       "True"
      ]
     },
     "execution_count": 15,
     "metadata": {},
     "output_type": "execute_result"
    }
   ],
   "source": [
    "check_args(Signal('a'), target='policy_input')"
   ]
  },
  {
   "cell_type": "markdown",
   "metadata": {},
   "source": [
    "```python\n",
    "Policy(f,\n",
    "       Signal('delta'),\n",
    "       Signal('output'),\n",
    "       args=(State('x'), \n",
    "             Parameter('alpha')),\n",
    "       kwargs={\"t\": StateHistory[0, 1, 'x']})\n",
    "       )\n",
    "\n",
    "\n",
    "Policy(f,\n",
    "       Signal('delta'),\n",
    "       x=State('x'),\n",
    "       y=Parameter('alpha'))\n",
    "\n",
    "StateUpdate(f,\n",
    "            'y',\n",
    "            args=(),\n",
    "            kwargs=())\n",
    "\n",
    "\n",
    "PartialStateUpdateBlock(policy_1,\n",
    "                        policy_2,\n",
    "                        suf_1,\n",
    "                        suf_2)\n",
    "\n",
    "TimestepBlock(psub1,\n",
    "              psub2,\n",
    "              psub3)\n",
    "\n",
    "Simulation(t_block,\n",
    "           params,\n",
    "           initial_state)\n",
    "\n",
    "\n",
    "simple_run(config)\n",
    "```"
   ]
  },
  {
   "cell_type": "code",
   "execution_count": null,
   "metadata": {},
   "outputs": [],
   "source": []
  }
 ],
 "metadata": {
  "kernelspec": {
   "display_name": "Python 3",
   "language": "python",
   "name": "python3"
  },
  "language_info": {
   "codemirror_mode": {
    "name": "ipython",
    "version": 3
   },
   "file_extension": ".py",
   "mimetype": "text/x-python",
   "name": "python",
   "nbconvert_exporter": "python",
   "pygments_lexer": "ipython3",
   "version": "3.8.2"
  }
 },
 "nbformat": 4,
 "nbformat_minor": 4
}
